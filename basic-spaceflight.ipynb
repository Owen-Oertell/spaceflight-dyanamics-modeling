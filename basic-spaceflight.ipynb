{
 "cells": [
  {
   "cell_type": "code",
   "execution_count": 2,
   "id": "f24221e0-dac3-4241-b2c2-9c3f63a50d34",
   "metadata": {},
   "outputs": [],
   "source": [
    "import numpy as np\n",
    "import pandas as pd\n",
    "import cvxpy as cp\n",
    "import math"
   ]
  },
  {
   "cell_type": "code",
   "execution_count": 71,
   "id": "db9d6ad1-7cee-4dcf-8e84-e50915f11fbf",
   "metadata": {},
   "outputs": [
    {
     "name": "stdout",
     "output_type": "stream",
     "text": [
      "[[ 0.00000000e+00  0.00000000e+00  0.00000000e+00]\n",
      " [-4.97968856e-01 -3.24293806e-05  0.00000000e+00]\n",
      " [-3.65043420e-01 -4.75905631e-05  0.00000000e+00]\n",
      " [-2.54168131e-01 -4.97113412e-05  0.00000000e+00]\n",
      " [-1.62952102e-01 -4.24971681e-05  0.00000000e+00]\n",
      " [-8.33646329e-02 -2.71784236e-05  0.00000000e+00]\n",
      " [-1.02296290e-02 -4.00431060e-06  0.00000000e+00]\n",
      " [ 5.88699327e-02  2.68638932e-05  0.00000000e+00]\n",
      " [ 1.25232150e-01  6.53089639e-05  0.00000000e+00]\n",
      " [ 1.89624626e-01  1.11238277e-04  0.00000000e+00]]\n"
     ]
    }
   ],
   "source": [
    "def phi(n,t):\n",
    "    return np.array([[4 - 3*math.cos(n*t), 0, 0, (1/n) * math.sin(n*t), (2/n) * (1 - math.cos(n*t)),0],\n",
    "                 [6*(math.sin(n*t)-n*t),1, 0, -1*(2/n)*( 1 - math.cos(n*t)), (1/n)*(4*math.sin(n*t) - 3*n*t),0],\n",
    "                 [0,0,math.cos(n*t),0,0,(1/n)*math.sin(n*t)],\n",
    "                 [3*n*math.sin(n*t),0,0,math.cos(n*t),2*math.sin(n*t),0],\n",
    "                 [-6*n*(1-math.cos(n*t)),0,0,-2*math.sin(n*t), 4*math.cos(n*t)-3, 0], \n",
    "                 [0,0,-1*n*math.sin(n*t), 0, 0, math.cos(n*t)]])\n",
    "\n",
    "# inital x\n",
    "x_0 = np.array([0,0,0,1,0,0]).reshape((6,1))\n",
    "\n",
    "total = 10\n",
    "m = 100\n",
    "\n",
    "\n",
    "def move(u):\n",
    "    delta = 1\n",
    "    n = (2*np.pi) / 96400\n",
    "    k = phi(n,0)@x_0\n",
    "    for i in range(1,total):\n",
    "        k = k + phi(n,i) @ np.array([[0],[0],[0],[u[i][0]*delta],[u[i][1]*delta],[u[i][2]*delta]])\n",
    "    return np.sum(k**2)\n",
    "\n",
    "x = cp.Variable((total,3))\n",
    "objective = cp.Minimize(move(x))\n",
    "constraints = []\n",
    "\n",
    "for i in range(total):\n",
    "    constraints += [x[i][0]**2 + x[i][1]**2 + x[i][2]**2 <= m]\n",
    "prob = cp.Problem(objective, constraints)\n",
    "prob.solve()\n",
    "print(x.value)\n"
   ]
  },
  {
   "cell_type": "code",
   "execution_count": null,
   "id": "ce06f971-4895-41be-a506-389f6e45efd7",
   "metadata": {},
   "outputs": [],
   "source": []
  }
 ],
 "metadata": {
  "kernelspec": {
   "display_name": "Python 3 (ipykernel)",
   "language": "python",
   "name": "python3"
  },
  "language_info": {
   "codemirror_mode": {
    "name": "ipython",
    "version": 3
   },
   "file_extension": ".py",
   "mimetype": "text/x-python",
   "name": "python",
   "nbconvert_exporter": "python",
   "pygments_lexer": "ipython3",
   "version": "3.9.13"
  }
 },
 "nbformat": 4,
 "nbformat_minor": 5
}
