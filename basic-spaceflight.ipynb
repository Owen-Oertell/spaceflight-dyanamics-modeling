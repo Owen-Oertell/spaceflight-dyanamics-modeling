{
 "cells": [
  {
   "cell_type": "code",
   "execution_count": 8,
   "id": "f24221e0-dac3-4241-b2c2-9c3f63a50d34",
   "metadata": {},
   "outputs": [],
   "source": [
    "import numpy as np\n",
    "import pandas as pd\n",
    "import cvxpy as cp\n",
    "import math"
   ]
  },
  {
   "cell_type": "code",
   "execution_count": 21,
   "id": "db9d6ad1-7cee-4dcf-8e84-e50915f11fbf",
   "metadata": {},
   "outputs": [],
   "source": [
    "def phi(n,t):\n",
    "    return np.array([[4 - 3*math.cos(n*t), 0, 0, (1/n) * math.sin(n*t), (2/n) * (1 - math.cos(n*t)),0],\n",
    "                 [6*(math.sin(n*t)-n*t),1, 0, -1*(2/n)*( 1 - math.cos(n*t)), (1/n)*(4*math.sin(n*t) - 3*n*t),0],\n",
    "                 [0,0,math.cos(n*t),0,0,(1/n)*math.sin(n*t)],\n",
    "                 [3*n*math.sin(n*t),0,0,math.cos(n*t),2*math.sin(n*t),0],\n",
    "                 [-6*n*(1-math.cos(n*t)),0,0,-2*math.sin(n*t), 4*math.cos(n*t)-3, 0], \n",
    "                 [0,0,-1*n*math.sin(n*t), 0, 0, math.cos(n*t)]])\n",
    "\n",
    "def move(u):\n",
    "    delta = 1\n",
    "    n = (2*np.pi) / 96400\n",
    "    k = phi(n,0)@x_0\n",
    "    for i in range(1,total):\n",
    "        k = k + phi(n,i) @ np.array([[0],[0],[0],[u[i][0]*delta],[u[i][1]*delta],[u[i][2]*delta]])\n",
    "    return np.sum(k**2)"
   ]
  },
  {
   "cell_type": "code",
   "execution_count": 22,
   "id": "ce06f971-4895-41be-a506-389f6e45efd7",
   "metadata": {},
   "outputs": [],
   "source": [
    "# inital x\n",
    "x_0 = np.array([0,0,0,20,40,10]).reshape((6,1))\n",
    "\n",
    "total = 10\n",
    "m = 1000"
   ]
  },
  {
   "cell_type": "code",
   "execution_count": 23,
   "id": "e474a87e-a3fb-4d40-a5bf-d3a4d15cad26",
   "metadata": {},
   "outputs": [
    {
     "name": "stdout",
     "output_type": "stream",
     "text": [
      "Final Distance\n",
      "1.093970388626209e-12\n",
      "Thrust Vectors at Time Step\n",
      "[[  0.           0.           0.        ]\n",
      " [ -9.94195896 -16.43127596  -5.04297533]\n",
      " [ -7.15082023 -15.25506898  -3.56079639]\n",
      " [ -5.10648005 -11.82946313  -2.52023541]\n",
      " [ -3.36420748  -8.18431679  -1.65056682]\n",
      " [ -1.77023922  -4.53150623  -0.86309179]\n",
      " [ -0.25412739  -0.91195432  -0.11791567]\n",
      " [  1.19251858   2.57629914   0.59242231]\n",
      " [  2.55825156   5.82107755   1.26489955]\n",
      " [  3.8370613    8.74620868   1.89826043]]\n"
     ]
    }
   ],
   "source": [
    "x = cp.Variable((total,3))\n",
    "objective = cp.Minimize(move(x))\n",
    "constraints = []\n",
    "\n",
    "for i in range(total):\n",
    "    constraints += [x[i][0]**2 + x[i][1]**2 + x[i][2]**2 <= m]\n",
    "\n",
    "prob = cp.Problem(objective, constraints)\n",
    "sol = prob.solve()\n",
    "\n",
    "print(\"Final Distance\") \n",
    "print(sol)\n",
    "\n",
    "print(\"Thrust Vectors at Time Step\")\n",
    "print(x.value)"
   ]
  },
  {
   "cell_type": "code",
   "execution_count": null,
   "id": "994d9647-e7ff-44bd-9943-c200f508954d",
   "metadata": {},
   "outputs": [],
   "source": []
  }
 ],
 "metadata": {
  "kernelspec": {
   "display_name": "Python 3 (ipykernel)",
   "language": "python",
   "name": "python3"
  },
  "language_info": {
   "codemirror_mode": {
    "name": "ipython",
    "version": 3
   },
   "file_extension": ".py",
   "mimetype": "text/x-python",
   "name": "python",
   "nbconvert_exporter": "python",
   "pygments_lexer": "ipython3",
   "version": "3.9.13"
  }
 },
 "nbformat": 4,
 "nbformat_minor": 5
}
