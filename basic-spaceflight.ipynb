{
 "cells": [
  {
   "cell_type": "code",
   "execution_count": 14,
   "id": "f24221e0-dac3-4241-b2c2-9c3f63a50d34",
   "metadata": {},
   "outputs": [],
   "source": [
    "import numpy as np\n",
    "import pandas as pd\n",
    "import cvxpy as cp\n",
    "import math"
   ]
  },
  {
   "cell_type": "code",
   "execution_count": 38,
   "id": "db9d6ad1-7cee-4dcf-8e84-e50915f11fbf",
   "metadata": {},
   "outputs": [
    {
     "name": "stdout",
     "output_type": "stream",
     "text": [
      "[[0.]\n",
      " [0.]\n",
      " [0.]\n",
      " [1.]\n",
      " [0.]\n",
      " [0.]]\n"
     ]
    }
   ],
   "source": [
    "def phi(n,t):\n",
    "    return np.array([[4 - 3*math.cos(n*t), 0, 0, (1/n) * math.sin(n*t), (2/n) * (1 - math.cos(n*t)),0],\n",
    "                 [6*(math.sin(n*t)-n*t),1, 0, -1*(2/n)*( 1 - math.cos(n*t)), (1/n)*(4*math.sin(n*t) - 3*n*t),0],\n",
    "                 [0,0,math.cos(n*t),0,0,(1/n)*math.sin(n*t)],\n",
    "                 [3*n*math.sin(n*t),0,0,math.cos(n*t),2*math.sin(n*t),0],\n",
    "                 [-6*n*(1-math.cos(n*t)),0,0,-2*math.sin(n*t), 4*math.cos(n*t)-3, 0], \n",
    "                 [0,0,-1*n*math.sin(n*t), 0, 0, math.cos(n*t)]])\n",
    "\n",
    "\n",
    "def move():\n",
    "\n",
    "# inital x\n",
    "x_0 = np.array([0,0,0,1,0,0]).reshape((6,1))\n"
   ]
  },
  {
   "cell_type": "code",
   "execution_count": null,
   "id": "14bedc88-c30d-414d-8dfb-645b1cd73f98",
   "metadata": {},
   "outputs": [],
   "source": []
  }
 ],
 "metadata": {
  "kernelspec": {
   "display_name": "Python 3 (ipykernel)",
   "language": "python",
   "name": "python3"
  },
  "language_info": {
   "codemirror_mode": {
    "name": "ipython",
    "version": 3
   },
   "file_extension": ".py",
   "mimetype": "text/x-python",
   "name": "python",
   "nbconvert_exporter": "python",
   "pygments_lexer": "ipython3",
   "version": "3.9.13"
  }
 },
 "nbformat": 4,
 "nbformat_minor": 5
}
