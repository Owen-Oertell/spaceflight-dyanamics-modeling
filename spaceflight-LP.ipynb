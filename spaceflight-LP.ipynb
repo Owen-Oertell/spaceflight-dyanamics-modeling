{
 "cells": [
  {
   "cell_type": "code",
   "execution_count": 1,
   "metadata": {},
   "outputs": [],
   "source": [
    "# generic imports\n",
    "import numpy as np\n",
    "import pandas as pd\n",
    "import cvxpy as cp\n",
    "import math"
   ]
  },
  {
   "cell_type": "code",
   "execution_count": 2,
   "metadata": {},
   "outputs": [],
   "source": [
    "# initial time step and final time under control\n",
    "# 100,000 seconds is a little over a day\n",
    "timeStep = 100\n",
    "numSteps = 1000\n",
    "\n",
    "# inital x sattelite (x,y,z,dx,dy,dz)\n",
    "x_0 = np.array([0,1,0,0,0,0]).reshape((6,1))\n",
    "\n",
    "# phi matrix given time and beginning time.\n",
    "def phi(t_i,t_0, n=(2*np.pi) / 86400):\n",
    "    t = t_i - t_0\n",
    "    return np.array([[4 - 3*math.cos(n*t), 0, 0, (1/n) * math.sin(n*t), (2/n) * (1 - math.cos(n*t)),0],\n",
    "                 [6*(math.sin(n*t)-n*t),1, 0, -1*(2/n)*( 1 - math.cos(n*t)), (1/n)*(4*math.sin(n*t) - 3*n*t),0],\n",
    "                 [0,0,math.cos(n*t),0,0,(1/n)*math.sin(n*t)],\n",
    "                 [3*n*math.sin(n*t),0,0,math.cos(n*t),2*math.sin(n*t),0],\n",
    "                 [-6*n*(1-math.cos(n*t)),0,0,-2*math.sin(n*t), 4*math.cos(n*t)-3, 0], \n",
    "                 [0,0,-1*n*math.sin(n*t), 0, 0, math.cos(n*t)]])\n",
    "\n",
    "# find the specific velocity pebetuation that we want for a given time step.\n",
    "def delt(u,i,delta):\n",
    "    return np.array([[0],[0],[0],[u[i][0]*delta],[u[i][1]*delta],[u[i][2]*delta]])\n",
    "\n",
    "# move from x_0 to x_i\n",
    "def move(x_0, u, numSteps, delta):\n",
    "    x_i = phi(numSteps*delta, 0) @ x_0\n",
    "    for j in range(1, numSteps):\n",
    "        x_i = x_i + phi(numSteps*delta, j*delta) @ delt(u,j,delta)\n",
    "\n",
    "    return x_i\n",
    "\n",
    "def moveOneStep(x_0, u, delta, i):\n",
    "    x_i = x_0 + phi(delta, 0) @ delt(u,i,delta)\n",
    "    return x_i\n",
    "\n",
    "# generate massive PHI:\n",
    "def generatePhi(x_0, numSteps, delta):\n",
    "    # phi is 6x6 with x_0 on diagonal\n",
    "    PHI = np.eye(6) * x_0\n",
    "    \n",
    "    for i in range(0, numSteps):\n",
    "        PHI = np.append(PHI, phi(numSteps*delta, i*delta))\n",
    "    return PHI.reshape((6*(numSteps+1),6))"
   ]
  },
  {
   "cell_type": "code",
   "execution_count": 3,
   "metadata": {},
   "outputs": [
    {
     "name": "stdout",
     "output_type": "stream",
     "text": [
      "PHI Shape: (6, 6006)\n",
      "u Shape: (6006, 1)\n",
      "A Shape: (6006, 1)\n",
      "B Shape: (6006, 1)\n"
     ]
    }
   ],
   "source": [
    "# total PHI. Is 6006 x 6\n",
    "PHI = generatePhi(x_0, numSteps, timeStep)\n",
    "# generate total u\n",
    "u = np.random.rand(numSteps+1,6).reshape((numSteps+1)*6,1)\n",
    "\n",
    "\n",
    "print(\"PHI Shape: \" + str(PHI.T.shape))\n",
    "print(\"u Shape: \" + str(u.shape))\n",
    "\n",
    "# u is of shape (1001,6) -> (6006, 1) \n",
    "PHI.T @ u\n",
    "\n",
    "A = []\n",
    "for i in range(0, (numSteps+1)):\n",
    "    A.append([1]*3 + [0]*3)\n",
    "A = np.array(A).reshape((numSteps+1)*6,1)\n",
    "print(\"A Shape: \" + str(A.shape))\n",
    "\n",
    "# opposite of A\n",
    "B = []\n",
    "for i in range(0, (numSteps+1)):\n",
    "    B.append([0]*3 + [1]*3)\n",
    "B = np.array(B).reshape((numSteps+1)*6,1)\n",
    "print(\"B Shape: \" + str(B.shape))"
   ]
  },
  {
   "cell_type": "code",
   "execution_count": 4,
   "metadata": {},
   "outputs": [
    {
     "name": "stdout",
     "output_type": "stream",
     "text": [
      "===============================================================================\n",
      "                                     CVXPY                                     \n",
      "                                     v1.2.1                                    \n",
      "===============================================================================\n",
      "(CVXPY) Oct 30 11:54:15 PM: Your problem has 6006 variables, 2 constraints, and 0 parameters.\n",
      "(CVXPY) Oct 30 11:54:15 PM: It is compliant with the following grammars: DCP, DQCP\n",
      "(CVXPY) Oct 30 11:54:15 PM: (If you need to solve this problem multiple times, but with different data, consider using parameters.)\n",
      "(CVXPY) Oct 30 11:54:15 PM: CVXPY will first compile your problem; then, it will invoke a numerical solver to obtain a solution.\n",
      "-------------------------------------------------------------------------------\n",
      "                                  Compilation                                  \n",
      "-------------------------------------------------------------------------------\n",
      "(CVXPY) Oct 30 11:54:15 PM: Compiling problem (target solver=ECOS).\n",
      "(CVXPY) Oct 30 11:54:15 PM: Reduction chain: Dcp2Cone -> CvxAttr2Constr -> ConeMatrixStuffing -> ECOS\n",
      "(CVXPY) Oct 30 11:54:15 PM: Applying reduction Dcp2Cone\n",
      "(CVXPY) Oct 30 11:54:15 PM: Applying reduction CvxAttr2Constr\n",
      "(CVXPY) Oct 30 11:54:15 PM: Applying reduction ConeMatrixStuffing\n",
      "(CVXPY) Oct 30 11:54:22 PM: Applying reduction ECOS\n",
      "(CVXPY) Oct 30 11:54:29 PM: Finished problem compilation (took 1.322e+01 seconds).\n",
      "-------------------------------------------------------------------------------\n",
      "                                Numerical solver                               \n",
      "-------------------------------------------------------------------------------\n",
      "(CVXPY) Oct 30 11:54:29 PM: Invoking solver ECOS  to obtain a solution.\n"
     ]
    }
   ],
   "source": [
    "from tabnanny import verbose\n",
    "\n",
    "maxProp = 0.1\n",
    "\n",
    "F = np.ones((6*numSteps+1,1)) * maxProp\n",
    "Z = np.zeros((6*numSteps+1,1))\n",
    "u = cp.Variable( ((numSteps+1)*6,1)) \n",
    "objective = cp.Minimize( np.ones(6) @ (PHI.T @ u) ) \n",
    "constraints = [A.T @ u == 0]\n",
    "constraints += [B >= u ]\n",
    "\n",
    "prob = cp.Problem(objective, constraints)  # Form problem.\n",
    "prob.solve(verbose=True)  # Solve problem.\n",
    "\n",
    "\n",
    "print(\"Thrust Vectors at Final Time Step\")\n",
    "#print(u.value)\n",
    "print(\"Final Position\")\n",
    "#print( PHI.T @ u )"
   ]
  },
  {
   "cell_type": "code",
   "execution_count": null,
   "metadata": {},
   "outputs": [
    {
     "ename": "TypeError",
     "evalue": "'NoneType' object is not subscriptable",
     "output_type": "error",
     "traceback": [
      "\u001b[0;31m---------------------------------------------------------------------------\u001b[0m",
      "\u001b[0;31mTypeError\u001b[0m                                 Traceback (most recent call last)",
      "\u001b[0;32m/var/folders/sq/b9lccg_14ybfxwt0scsz1w5h0000gn/T/ipykernel_10228/3856127987.py\u001b[0m in \u001b[0;36m<module>\u001b[0;34m\u001b[0m\n\u001b[1;32m     11\u001b[0m \u001b[0;32mfor\u001b[0m \u001b[0mi\u001b[0m \u001b[0;32min\u001b[0m \u001b[0mrange\u001b[0m\u001b[0;34m(\u001b[0m\u001b[0;36m1\u001b[0m\u001b[0;34m,\u001b[0m\u001b[0mnumSteps\u001b[0m\u001b[0;34m+\u001b[0m\u001b[0;36m1\u001b[0m\u001b[0;34m)\u001b[0m\u001b[0;34m:\u001b[0m\u001b[0;34m\u001b[0m\u001b[0;34m\u001b[0m\u001b[0m\n\u001b[1;32m     12\u001b[0m     \u001b[0;31m#x_i = moveOneStep(x_i, u.value, timeStep, i)\u001b[0m\u001b[0;34m\u001b[0m\u001b[0;34m\u001b[0m\u001b[0m\n\u001b[0;32m---> 13\u001b[0;31m     \u001b[0mx_i\u001b[0m \u001b[0;34m=\u001b[0m \u001b[0mmove\u001b[0m\u001b[0;34m(\u001b[0m\u001b[0mx_0\u001b[0m\u001b[0;34m,\u001b[0m \u001b[0mu\u001b[0m\u001b[0;34m.\u001b[0m\u001b[0mvalue\u001b[0m\u001b[0;34m,\u001b[0m \u001b[0mi\u001b[0m\u001b[0;34m,\u001b[0m \u001b[0mtimeStep\u001b[0m\u001b[0;34m)\u001b[0m\u001b[0;34m\u001b[0m\u001b[0;34m\u001b[0m\u001b[0m\n\u001b[0m\u001b[1;32m     14\u001b[0m     \u001b[0;31m# get first three elements of x_i\u001b[0m\u001b[0;34m\u001b[0m\u001b[0;34m\u001b[0m\u001b[0m\n\u001b[1;32m     15\u001b[0m     \u001b[0mx_trajectory\u001b[0m\u001b[0;34m.\u001b[0m\u001b[0mappend\u001b[0m\u001b[0;34m(\u001b[0m\u001b[0mx_i\u001b[0m\u001b[0;34m[\u001b[0m\u001b[0;36m0\u001b[0m\u001b[0;34m]\u001b[0m\u001b[0;34m[\u001b[0m\u001b[0;36m0\u001b[0m\u001b[0;34m]\u001b[0m\u001b[0;34m)\u001b[0m\u001b[0;34m\u001b[0m\u001b[0;34m\u001b[0m\u001b[0m\n",
      "\u001b[0;32m/var/folders/sq/b9lccg_14ybfxwt0scsz1w5h0000gn/T/ipykernel_10228/2705270908.py\u001b[0m in \u001b[0;36mmove\u001b[0;34m(x_0, u, numSteps, delta)\u001b[0m\n\u001b[1;32m     25\u001b[0m     \u001b[0mx_i\u001b[0m \u001b[0;34m=\u001b[0m \u001b[0mphi\u001b[0m\u001b[0;34m(\u001b[0m\u001b[0mnumSteps\u001b[0m\u001b[0;34m*\u001b[0m\u001b[0mdelta\u001b[0m\u001b[0;34m,\u001b[0m \u001b[0;36m0\u001b[0m\u001b[0;34m)\u001b[0m \u001b[0;34m@\u001b[0m \u001b[0mx_0\u001b[0m\u001b[0;34m\u001b[0m\u001b[0;34m\u001b[0m\u001b[0m\n\u001b[1;32m     26\u001b[0m     \u001b[0;32mfor\u001b[0m \u001b[0mj\u001b[0m \u001b[0;32min\u001b[0m \u001b[0mrange\u001b[0m\u001b[0;34m(\u001b[0m\u001b[0;36m1\u001b[0m\u001b[0;34m,\u001b[0m \u001b[0mnumSteps\u001b[0m\u001b[0;34m)\u001b[0m\u001b[0;34m:\u001b[0m\u001b[0;34m\u001b[0m\u001b[0;34m\u001b[0m\u001b[0m\n\u001b[0;32m---> 27\u001b[0;31m         \u001b[0mx_i\u001b[0m \u001b[0;34m=\u001b[0m \u001b[0mx_i\u001b[0m \u001b[0;34m+\u001b[0m \u001b[0mphi\u001b[0m\u001b[0;34m(\u001b[0m\u001b[0mnumSteps\u001b[0m\u001b[0;34m*\u001b[0m\u001b[0mdelta\u001b[0m\u001b[0;34m,\u001b[0m \u001b[0mj\u001b[0m\u001b[0;34m*\u001b[0m\u001b[0mdelta\u001b[0m\u001b[0;34m)\u001b[0m \u001b[0;34m@\u001b[0m \u001b[0mdelt\u001b[0m\u001b[0;34m(\u001b[0m\u001b[0mu\u001b[0m\u001b[0;34m,\u001b[0m\u001b[0mj\u001b[0m\u001b[0;34m,\u001b[0m\u001b[0mdelta\u001b[0m\u001b[0;34m)\u001b[0m\u001b[0;34m\u001b[0m\u001b[0;34m\u001b[0m\u001b[0m\n\u001b[0m\u001b[1;32m     28\u001b[0m \u001b[0;34m\u001b[0m\u001b[0m\n\u001b[1;32m     29\u001b[0m     \u001b[0;32mreturn\u001b[0m \u001b[0mx_i\u001b[0m\u001b[0;34m\u001b[0m\u001b[0;34m\u001b[0m\u001b[0m\n",
      "\u001b[0;32m/var/folders/sq/b9lccg_14ybfxwt0scsz1w5h0000gn/T/ipykernel_10228/2705270908.py\u001b[0m in \u001b[0;36mdelt\u001b[0;34m(u, i, delta)\u001b[0m\n\u001b[1;32m     19\u001b[0m \u001b[0;31m# find the specific velocity pebetuation that we want for a given time step.\u001b[0m\u001b[0;34m\u001b[0m\u001b[0;34m\u001b[0m\u001b[0m\n\u001b[1;32m     20\u001b[0m \u001b[0;32mdef\u001b[0m \u001b[0mdelt\u001b[0m\u001b[0;34m(\u001b[0m\u001b[0mu\u001b[0m\u001b[0;34m,\u001b[0m\u001b[0mi\u001b[0m\u001b[0;34m,\u001b[0m\u001b[0mdelta\u001b[0m\u001b[0;34m)\u001b[0m\u001b[0;34m:\u001b[0m\u001b[0;34m\u001b[0m\u001b[0;34m\u001b[0m\u001b[0m\n\u001b[0;32m---> 21\u001b[0;31m     \u001b[0;32mreturn\u001b[0m \u001b[0mnp\u001b[0m\u001b[0;34m.\u001b[0m\u001b[0marray\u001b[0m\u001b[0;34m(\u001b[0m\u001b[0;34m[\u001b[0m\u001b[0;34m[\u001b[0m\u001b[0;36m0\u001b[0m\u001b[0;34m]\u001b[0m\u001b[0;34m,\u001b[0m\u001b[0;34m[\u001b[0m\u001b[0;36m0\u001b[0m\u001b[0;34m]\u001b[0m\u001b[0;34m,\u001b[0m\u001b[0;34m[\u001b[0m\u001b[0;36m0\u001b[0m\u001b[0;34m]\u001b[0m\u001b[0;34m,\u001b[0m\u001b[0;34m[\u001b[0m\u001b[0mu\u001b[0m\u001b[0;34m[\u001b[0m\u001b[0mi\u001b[0m\u001b[0;34m]\u001b[0m\u001b[0;34m[\u001b[0m\u001b[0;36m0\u001b[0m\u001b[0;34m]\u001b[0m\u001b[0;34m*\u001b[0m\u001b[0mdelta\u001b[0m\u001b[0;34m]\u001b[0m\u001b[0;34m,\u001b[0m\u001b[0;34m[\u001b[0m\u001b[0mu\u001b[0m\u001b[0;34m[\u001b[0m\u001b[0mi\u001b[0m\u001b[0;34m]\u001b[0m\u001b[0;34m[\u001b[0m\u001b[0;36m1\u001b[0m\u001b[0;34m]\u001b[0m\u001b[0;34m*\u001b[0m\u001b[0mdelta\u001b[0m\u001b[0;34m]\u001b[0m\u001b[0;34m,\u001b[0m\u001b[0;34m[\u001b[0m\u001b[0mu\u001b[0m\u001b[0;34m[\u001b[0m\u001b[0mi\u001b[0m\u001b[0;34m]\u001b[0m\u001b[0;34m[\u001b[0m\u001b[0;36m2\u001b[0m\u001b[0;34m]\u001b[0m\u001b[0;34m*\u001b[0m\u001b[0mdelta\u001b[0m\u001b[0;34m]\u001b[0m\u001b[0;34m]\u001b[0m\u001b[0;34m)\u001b[0m\u001b[0;34m\u001b[0m\u001b[0;34m\u001b[0m\u001b[0m\n\u001b[0m\u001b[1;32m     22\u001b[0m \u001b[0;34m\u001b[0m\u001b[0m\n\u001b[1;32m     23\u001b[0m \u001b[0;31m# move from x_0 to x_i\u001b[0m\u001b[0;34m\u001b[0m\u001b[0;34m\u001b[0m\u001b[0m\n",
      "\u001b[0;31mTypeError\u001b[0m: 'NoneType' object is not subscriptable"
     ]
    }
   ],
   "source": [
    "# plot trajectory\n",
    "import matplotlib.pyplot as plt\n",
    "from mpl_toolkits.mplot3d import Axes3D\n",
    "\n",
    "x_trajectory = [x_0[0][0]]\n",
    "y_trajectory = [x_0[1][0]]\n",
    "z_trajectory = [x_0[2][0]]\n",
    "\n",
    "x_i = x_0\n",
    "# get x,y,z values for plotting\n",
    "for i in range(1,numSteps+1):\n",
    "    #x_i = moveOneStep(x_i, u.value, timeStep, i)\n",
    "    x_i = move(x_0, u.value, i, timeStep)\n",
    "    # get first three elements of x_i\n",
    "    x_trajectory.append(x_i[0][0])\n",
    "    y_trajectory.append(x_i[1][0])\n",
    "    z_trajectory.append(x_i[2][0])\n",
    "\n",
    "print(\"Final Position\")\n",
    "print((x_trajectory[-1], y_trajectory[-1], z_trajectory[-1]))\n",
    "# print sizes\n",
    "\n",
    "# plot trajectory\n",
    "fig = plt.figure()\n",
    "ax = fig.add_subplot(projection='3d')\n",
    "ax.plot(x_trajectory, y_trajectory, z_trajectory)\n",
    "ax.set_xlabel('X Label')\n",
    "ax.set_ylabel('Y Label')\n",
    "ax.set_zlabel('Z Label')\n",
    "\n",
    "fig = plt.figure()\n",
    "ax = fig.add_subplot()\n",
    "ax.plot(y_trajectory, x_trajectory)\n",
    "ax.set_xlabel('Y Label')\n",
    "ax.set_ylabel('X Label')\n",
    "\n",
    "# plot usage of thrust magnitude at each time step\n",
    "thrust = [ math.sqrt(u.value[i][0]**2 + u.value[i][1]**2 + u.value[i][2]**2) for i in range(numSteps)]\n",
    "#print(thrust)\n",
    "plt.figure()\n",
    "plt.plot(thrust)\n",
    "plt.xlabel('time')\n",
    "\n",
    "plt.show()"
   ]
  },
  {
   "cell_type": "code",
   "execution_count": null,
   "metadata": {},
   "outputs": [],
   "source": []
  }
 ],
 "metadata": {
  "kernelspec": {
   "display_name": "Python 3.9.13 64-bit",
   "language": "python",
   "name": "python3"
  },
  "language_info": {
   "codemirror_mode": {
    "name": "ipython",
    "version": 3
   },
   "file_extension": ".py",
   "mimetype": "text/x-python",
   "name": "python",
   "nbconvert_exporter": "python",
   "pygments_lexer": "ipython3",
   "version": "3.9.13"
  },
  "orig_nbformat": 4,
  "vscode": {
   "interpreter": {
    "hash": "aee8b7b246df8f9039afb4144a1f6fd8d2ca17a180786b69acc140d282b71a49"
   }
  }
 },
 "nbformat": 4,
 "nbformat_minor": 2
}
